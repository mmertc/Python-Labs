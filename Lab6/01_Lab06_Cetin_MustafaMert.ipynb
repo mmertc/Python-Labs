{
 "cells": [
  {
   "cell_type": "markdown",
   "metadata": {},
   "source": [
    "# CS 115 - Introduction to Programming in Python\n",
    "## Lab 06\n",
    "\n",
    "### Lab Objectives:  Two-D Lists, numpy arrays\n",
    "\n",
    "**Instructions:** \n",
    "- In this lab, you will use Jupyter Notebook. Write your solutions in this notebook, put it in a .zip file named SS_Lab06_Surname_FirstName.zip where SS is the section number 01, 02, 03, etc. and upload it to the Lab06 assignment for your section on Moodle by 17:30 on Friday, November 27. \n",
    "- In Question 2, do not use any loops; you should only use numpy functions.\n",
    "- Solutions sent through email will not be accepted.\n",
    "- You should only use functionality covered in CS115 in your solution.\n"
   ]
  },
  {
   "cell_type": "markdown",
   "metadata": {},
   "source": [
    "## <font color=red>Question 1</font> \n",
    "### You will write code to store and manipulate two dimensional lists of data. Complete the steps below."
   ]
  },
  {
   "cell_type": "markdown",
   "metadata": {},
   "source": [
    "Write a function, ***sum_lower()*** that takes a two-dimensional list of integers as a parameter.  The function should return the sum of the lower triangular elements."
   ]
  },
  {
   "cell_type": "code",
   "execution_count": 29,
   "metadata": {},
   "outputs": [],
   "source": [
    "def sum_lower(mx):\n",
    "    sum = 0\n",
    "    for i in range(0, len(mx)):\n",
    "        for j in range(0, len(mx[i])):\n",
    "            if j <= i:                            #Tests if the current value is below or on the diagonal.\n",
    "                sum += mx[i][j]                   #If so, adds it to the sum.\n",
    "    return sum               "
   ]
  },
  {
   "cell_type": "markdown",
   "metadata": {},
   "source": [
    "Write a function, ***sum_major()*** that takes a two-dimensional list of integers as a parameter.  The function should return the sum of the major diagonal elements."
   ]
  },
  {
   "cell_type": "code",
   "execution_count": null,
   "metadata": {},
   "outputs": [],
   "source": [
    "def sum_major(mx):\n",
    "    a = len(mx)\n",
    "    if len(mx[0]) < a: a = len(mx[0])                #Finds which one is less: rows or columns.\n",
    "    sum = 0\n",
    "    \n",
    "    for i in range(0, a):                            #Runs on the diagonal one by one.\n",
    "        sum += mx[i][i]                              #And adds the current value to the sum.\n",
    "    return sum"
   ]
  },
  {
   "cell_type": "markdown",
   "metadata": {},
   "source": [
    "Using the function above write code that initializes a two dimensional list of integer values, and displays the data shown in the sample run below.\n",
    "\n",
    "Sample Run:\n",
    "\n",
    "Table:\n",
    "\n",
    "[3, 4, 8, 6]\n",
    "\n",
    "[6, 2, 2, 5]\n",
    "\n",
    "[8, 7, 7, 9]\n",
    "\n",
    "[4, 6, 2, 3]\n",
    "\n",
    "Sum of the lower triangular elements:  48\n",
    "\n",
    "Sum of the major diagonal elements:  15\n",
    "\n"
   ]
  },
  {
   "cell_type": "code",
   "execution_count": 30,
   "metadata": {},
   "outputs": [
    {
     "name": "stdout",
     "output_type": "stream",
     "text": [
      "Table:\n",
      "\n",
      "[3, 4, 8, 6]\n",
      "\n",
      "[6, 2, 2, 5]\n",
      "\n",
      "[8, 7, 7, 9]\n",
      "\n",
      "[4, 6, 2, 3]\n",
      "\n",
      "Sum of the lower triangular elements:  48\n",
      "Sum of the major diagonal elements:  15\n"
     ]
    }
   ],
   "source": [
    "def sum_lower(mx):\n",
    "    sum = 0\n",
    "    for i in range(0, len(mx)):\n",
    "        for j in range(0, len(mx[i])):\n",
    "            if j <= i:\n",
    "                sum += mx[i][j]\n",
    "    return sum    \n",
    "\n",
    "\n",
    "\n",
    "def sum_major(mx):\n",
    "    a = len(mx)\n",
    "    if len(mx[0]) < a: a = len(mx[0])\n",
    "    sum = 0\n",
    "    \n",
    "    for i in range(0, a):\n",
    "        sum += mx[i][i]\n",
    "    return sum\n",
    "\n",
    "\n",
    "\n",
    "\n",
    "mx = [[3, 4, 8, 6],[6, 2, 2, 5],[8, 7, 7, 9],[4, 6, 2, 3]]\n",
    "\n",
    "print(\"Table:\")\n",
    "print()\n",
    "for i in mx:\n",
    "    print(i)\n",
    "    print()\n",
    "print(\"Sum of the lower triangular elements: \", sum_lower(mx))\n",
    "print(\"Sum of the major diagonal elements: \", sum_major(mx))"
   ]
  },
  {
   "cell_type": "markdown",
   "metadata": {},
   "source": [
    "## <font color=red>Question 2</font> \n",
    "### You will use numpy arrays to store and manipulate data from files.  Do no use any loops. Complete the steps listed below:"
   ]
  },
  {
   "cell_type": "markdown",
   "metadata": {},
   "source": [
    "import numpy for use in your code"
   ]
  },
  {
   "cell_type": "code",
   "execution_count": null,
   "metadata": {},
   "outputs": [],
   "source": [
    "import numpy as np"
   ]
  },
  {
   "cell_type": "markdown",
   "metadata": {},
   "source": [
    "Read data from the files grades.txt and weights.txt into two numpy arrays.  The file grades.txt contains an array of student exam grades.  Each row in the file stores the scores for each student (Quiz1, Quiz2, Homework, Midterm, Final). The file weights.txt stores the exam weights for each assessment. After inputting the weights, they should be converted to a decimal percentage. Ex 10% becomes 0.10."
   ]
  },
  {
   "cell_type": "code",
   "execution_count": null,
   "metadata": {},
   "outputs": [],
   "source": [
    "gA = np.loadtxt(\"grades.txt\", skiprows=1)\n",
    "wA = np.loadtxt(\"weights.txt\", skiprows=2)/100"
   ]
  },
  {
   "cell_type": "markdown",
   "metadata": {},
   "source": [
    "Display the grades and the weights."
   ]
  },
  {
   "cell_type": "code",
   "execution_count": null,
   "metadata": {},
   "outputs": [],
   "source": [
    "print(\"Grades:\")\n",
    "print(gA)\n",
    "print()\n",
    "print(\"Weights:\")\n",
    "print(wA)"
   ]
  },
  {
   "cell_type": "markdown",
   "metadata": {},
   "source": [
    "Sum the grades for each assessment and store in a new array."
   ]
  },
  {
   "cell_type": "code",
   "execution_count": null,
   "metadata": {},
   "outputs": [],
   "source": [
    "g1, g2, g3, g4, g5, g6 = np.vsplit(gA, 6)\n",
    "\n",
    "sgA = (g1+g2+g3+g4+g5+g6)\n",
    "sgA = sgA.reshape((5,))"
   ]
  },
  {
   "cell_type": "markdown",
   "metadata": {},
   "source": [
    "Calculate the average score for each assessment and store in a new array. Hint: use the sums calculated above."
   ]
  },
  {
   "cell_type": "code",
   "execution_count": null,
   "metadata": {},
   "outputs": [],
   "source": [
    "agA = sgA/6"
   ]
  },
  {
   "cell_type": "markdown",
   "metadata": {},
   "source": [
    "Calculate and display the average overall score.  The overall score can be found by multiplying the weights of the \n",
    "assessments by the average score for each assesssment."
   ]
  },
  {
   "cell_type": "code",
   "execution_count": null,
   "metadata": {},
   "outputs": [],
   "source": [
    "apA = agA * wA\n",
    "\n",
    "aos = apA.sum()\n",
    "\n",
    "print(\"Average Overall Score: \" + str(aos))"
   ]
  },
  {
   "cell_type": "markdown",
   "metadata": {},
   "source": [
    "Calculate the overall grades for each student and store in an array.  Write the array to the file student_overall.txt"
   ]
  },
  {
   "cell_type": "code",
   "execution_count": null,
   "metadata": {},
   "outputs": [],
   "source": [
    "ogesA = np.array([(g1*wA).sum(), (g2*wA).sum(), (g3*wA).sum(), (g4*wA).sum(), (g5*wA).sum()])\n",
    "\n",
    "np.savetxt(\"student_overall.txt\", ogesA, fmt='%1.2f', newline=\", \")"
   ]
  }
 ],
 "metadata": {
  "kernelspec": {
   "display_name": "Python 3",
   "language": "python",
   "name": "python3"
  },
  "language_info": {
   "codemirror_mode": {
    "name": "ipython",
    "version": 3
   },
   "file_extension": ".py",
   "mimetype": "text/x-python",
   "name": "python",
   "nbconvert_exporter": "python",
   "pygments_lexer": "ipython3",
   "version": "3.8.3"
  }
 },
 "nbformat": 4,
 "nbformat_minor": 2
}
